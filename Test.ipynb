{
 "cells": [
  {
   "cell_type": "code",
   "execution_count": 1,
   "id": "e2edf6dc-bb1d-4f9f-b150-732c3c82745f",
   "metadata": {},
   "outputs": [],
   "source": [
    "import pandas as pd\n",
    "import numpy as np\n",
    "import seaborn as sns\n",
    "import matplotlib.pyplot as plt\n",
    "from sklearn.model_selection import train_test_split\n",
    "from sklearn.metrics import accuracy_score\n",
    "from sklearn.metrics import classification_report\n",
    "import re\n",
    "import string\n",
    "from sklearn.metrics import accuracy_score\n",
    "import joblib\n",
    "from joblib import dump,load\n",
    "from sklearn.feature_extraction.text import TfidfVectorizer\n",
    "\n",
    "import warnings \n",
    "warnings.filterwarnings('ignore')"
   ]
  },
  {
   "cell_type": "code",
   "execution_count": 2,
   "id": "ef19baf3-f069-4b45-a3fd-dcb0d0b43ffd",
   "metadata": {},
   "outputs": [],
   "source": [
    "def wordopt(text):\n",
    "    # Convert text to lowercase\n",
    "    text = text.lower()\n",
    "    \n",
    "    # Remove URLs\n",
    "    text = re.sub(r'https?://\\S+|www\\.\\S+', '', text)\n",
    "    \n",
    "    # Remove HTML tags\n",
    "    text = re.sub(r'<.*?>', '', text)\n",
    "    \n",
    "    # Remove punctuation\n",
    "    text = re.sub(r'[^\\w\\s]', '', text)\n",
    "    \n",
    "    # Remove digits\n",
    "    text = re.sub(r'\\d', '', text)\n",
    "    \n",
    "    # Remove newline characters\n",
    "    text = re.sub(r'\\n', ' ', text)\n",
    "    \n",
    "    return text\n",
    "\n"
   ]
  },
  {
   "cell_type": "code",
   "execution_count": 3,
   "id": "0b8dcb2c-f28c-4333-b971-779948e7dab7",
   "metadata": {},
   "outputs": [],
   "source": [
    "vectorization = load('tfidf_vectorizer.pkl')"
   ]
  },
  {
   "cell_type": "code",
   "execution_count": 4,
   "id": "dfe37ec8-067f-4d56-9ccf-e04e27323536",
   "metadata": {},
   "outputs": [],
   "source": [
    "LR = joblib.load('logistic_regression.pkl')\n",
    "DT = joblib.load('DT.pkl')\n",
    "GBC = joblib.load('GBC.pkl')\n",
    "RFC = joblib.load('RFC.pkl')\n"
   ]
  },
  {
   "cell_type": "code",
   "execution_count": 5,
   "id": "2c2a30fa-2865-4183-9d79-ebf4c78df012",
   "metadata": {},
   "outputs": [],
   "source": [
    "def output_lable(n):\n",
    "    if n == 0:\n",
    "        return \"Fake News\"\n",
    "    elif n == 1:\n",
    "        return \"Not A Fake News\"\n",
    "    "
   ]
  },
  {
   "cell_type": "code",
   "execution_count": 6,
   "id": "f29788e5-0330-4778-b2e0-c93c08cbb03b",
   "metadata": {},
   "outputs": [],
   "source": [
    "def predict_labels(news_df):\n",
    "    news_df[\"text\"].fillna(\"\", inplace=True)\n",
    "    \n",
    "    # Apply preprocessing steps and vectorization\n",
    "    news_df[\"text\"] = news_df[\"text\"].apply(wordopt)\n",
    "    new_x_test = news_df[\"text\"]\n",
    "    new_xv_test = vectorization.transform(new_x_test)\n",
    "\n",
    "    # Predict using each model\n",
    "    pred_LR = LR.predict(new_xv_test)\n",
    "    pred_DT = DT.predict(new_xv_test)\n",
    "    pred_GBC = GBC.predict(new_xv_test)\n",
    "    pred_RFC = RFC.predict(new_xv_test)\n",
    "\n",
    "    # Create a DataFrame to hold the predictions\n",
    "    predictions_df = pd.DataFrame({\n",
    "        \"Logistic Regression\": [output_lable(pred_LR[i]) for i in range(len(pred_LR))],\n",
    "        \"Decision Tree\": [output_lable(pred_DT[i]) for i in range(len(pred_DT))],\n",
    "        \"Gradient Boosting\": [output_lable(pred_GBC[i]) for i in range(len(pred_GBC))],\n",
    "        \"Random Forest\": [output_lable(pred_RFC[i]) for i in range(len(pred_RFC))]\n",
    "    })\n",
    "\n",
    "    return predictions_df\n",
    "\n",
    "\n"
   ]
  },
  {
   "cell_type": "code",
   "execution_count": 7,
   "id": "c1022c2c-9b07-45d4-803a-634041817e02",
   "metadata": {},
   "outputs": [],
   "source": [
    "x_test = pd.read_csv(\"Data/x_test.csv\")\n",
    "\n",
    "# Perform predictions on the test data\n",
    "predictions = predict_labels(x_test)"
   ]
  },
  {
   "cell_type": "code",
   "execution_count": 8,
   "id": "7bc1b30b-fe10-442f-bd62-dc0bc4542001",
   "metadata": {},
   "outputs": [
    {
     "name": "stdout",
     "output_type": "stream",
     "text": [
      "     Logistic Regression    Decision Tree Gradient Boosting    Random Forest\n",
      "0              Fake News        Fake News         Fake News        Fake News\n",
      "1              Fake News        Fake News         Fake News        Fake News\n",
      "2              Fake News        Fake News         Fake News        Fake News\n",
      "3        Not A Fake News        Fake News   Not A Fake News  Not A Fake News\n",
      "4        Not A Fake News  Not A Fake News   Not A Fake News  Not A Fake News\n",
      "...                  ...              ...               ...              ...\n",
      "6629           Fake News        Fake News         Fake News        Fake News\n",
      "6630           Fake News        Fake News         Fake News        Fake News\n",
      "6631           Fake News        Fake News         Fake News        Fake News\n",
      "6632           Fake News        Fake News         Fake News        Fake News\n",
      "6633           Fake News        Fake News         Fake News        Fake News\n",
      "\n",
      "[6634 rows x 4 columns]\n"
     ]
    }
   ],
   "source": [
    "print(predictions)"
   ]
  },
  {
   "cell_type": "code",
   "execution_count": 9,
   "id": "77e09d26-4356-4c3a-8a3b-722de444868e",
   "metadata": {},
   "outputs": [],
   "source": [
    "def manual_testing(news):\n",
    "    testing_news = {\"text\":[news]}\n",
    "    new_def_test = pd.DataFrame(testing_news)\n",
    "    new_def_test[\"text\"] = new_def_test[\"text\"].apply(wordopt) \n",
    "    new_x_test = new_def_test[\"text\"]\n",
    "    new_xv_test = vectorization.transform(new_x_test)\n",
    "    pred_LR = LR.predict(new_xv_test)\n",
    "    pred_DT = DT.predict(new_xv_test)\n",
    "    pred_GBC = GBC.predict(new_xv_test)\n",
    "    pred_RFC = RFC.predict(new_xv_test)\n",
    "\n",
    "    return print(\"\\n\\nLR Prediction: {} \\nDT Prediction: {} \\nGBC Prediction: {} \\nRFC Prediction: {}\".format(output_lable(pred_LR[0]),output_lable(pred_DT[0]), \n",
    "                                                                                                              \n",
    "                                                                                                        output_lable(pred_GBC[0]), \n",
    "                                                                                                              output_lable(pred_RFC[0])))"
   ]
  },
  {
   "cell_type": "code",
   "execution_count": 10,
   "id": "acab74e7-6e6f-407c-afad-d669a93d6583",
   "metadata": {},
   "outputs": [
    {
     "name": "stdin",
     "output_type": "stream",
     "text": [
      " Paul Craig RobertsIn the last years of the 20th century fraud entered US foreign policy in a new way.  On false pretenses Washington dismantled Yugoslavia and Serbia in order to advance an undeclared agenda. In the 21st century this fraud multiplied many times. Afghanistan, Iraq, Somalia, and Libya were destroyed, and Iran and Syria would also have been destroyed if the President of Russia had not prevented it.  Washington is also behind the current destruction of Yemen, and Washington has enabled and financed the Israeli destruction of Palestine.  Additionally, Washington operated militarily within Pakistan without declaring war, murdering many women, children, and village elders under the guise of  combating terrorism.  Washington s war crimes rival those of any country in history.I have documented these crimes in my columns and books (Clarity Press). Anyone who still believes in the purity of Washington s foreign policy is a lost soul  Russia and China now have a strategic alliance that is too strong for Washington. Russia and China will prevent Washington from further encroachments on their security and national interests. Those countries important to Russia and China will be protected by the alliance.  As the world wakes up and sees the evil that the West represents, more countries will seek the protection of Russia and China.America is also failing on the economic front.  My columns and my book, The Failure of Laissez Faire Capitalism, which has been published in English, Chinese, Korean, Czech, and German, have shown how Washington has stood aside, indeed cheering it on, while the short-term profit interests of management, shareholders, and Wall Street eviscerated the American economy, sending manufacturing jobs, business know-how, and technology, along with professional tradeable skill jobs, to China, India, and other countries, leaving America with such a hollowed out economy that the median family income has been falling for years. Today 50% of 25 year-old Americans are living with their parents or grandparents because they cannot find employment sufficient to sustain an independent existance.This brutal fact is covered up by the presstitute US media, a source of fantasy stories of America s economic recovery.The facts of our existence are so different from what is reported that I am astonished. As a former professor of economics, Wall Street Journal editor and Assistant Secretary of the Treasury for Economic Policy, I am astonished at the corruption that rules in the financial sector, the Treasury, the financial regulatory agencies, and the Federal Reserve.  In my day, there would have been indictments and prison sentences of bankers and high government officials.In America today there are no free financial markets.  All the markets are rigged by the Federal Reserve and the Treasury. The regulatory agencies, controlled by those the agencies are supposed to regulate, turn a blind eye, and even if they did not, they are helpless to enforce any law, because private interests are more powerful than the law.Even the government s statistical agencies have been corrupted. Inflation measures have been concocted in order to understate inflation. This lie not only saves Washington from paying Social Security cost-of-living adjustments and frees the money for more wars, but also by understating inflation, the government can create real GDP growth by counting inflation as real growth, just as the government creates 5% unemployment by not counting any discouraged workers who have looked for jobs until they can no longer afford the cost of looking and give up.  The official unemployment rate is 5%, but no one can find a job.  How can the unemployment rate be 5% when half of 25-year olds are living with relatives because they cannot afford an independent existence?  As John Williams (shadowfacts) reports, the unemployment rate that includes those Americans who have given up looking for a job because there are no jobs to be found is 23%.The Federal Reserve, a tool of a small handful of banks, has succeeded in creating the illusion of an economic recovery since June, 2009, by printing trillions of dollars that found their way not into the economy but into the prices of financial assets.  Artificially booming stock and bond markets are the presstitute financial media s  proof  of a booming economy.The handful of learned people that America has left, and it is only a small handful, understand that there has been no recovery from the previous recession and that a new downturn is upon us.  John Williams has pointed out that US industrial production, when properly adjusted for inflation, has never recovered its 2008 level, much less its 2000 peak, and has again turned down.The American consumer is exhausted, overwhelmed by debt and lack of income growth. The entire economic policy of America is focused on saving a handful of NY banks, not on saving the American economy.Economists and other Wall Street shills will dismiss the decline in industrial production as America is now a service economy. Economists pretend that these are high-tech services of the New Economy, but in fact waitresses, bartenders, part time retail clerks, and ambulatory health care services have replaced manufacturing and engineering jobs at a fraction of the pay, thus collapsing effective aggregate demand in the US. On occasions when neoliberal economists recognize problems, they blame them on China.It is unclear that the US economy can be revived. To revive the US economy would require the re-regulation of the financial system and the recall of the jobs and US GDP that offshoring gave to foreign countries. It would require, as Michael Hudson demonstrates in his new book, Killing the Host, a revolution in tax policy that would prevent the financial sector from extracting economic surplus and capitalizing it in debt obligations paying interest to the financial sector.The US government, controlled as it is by corrupt economic interests, would never permit policies that impinged on executive bonuses and Wall Street profits.  Today US capitalism makes its money by selling out the American economy and the people dependent upon it.In  freedom and democracy  America, the government and the economy serve interests totally removed from the interests of the American people. The sellout of the American people is protected by a huge canopy of propaganda provided by free market economists and financial presstitutes paid to lie for their living.When America fails, so will Washington s vassal states in Europe, Canada, Australia, and Japan.  Unless Washington destroys the world in nuclear war, the world will be remade, and the corrupt and dissolute West will be an insignificant part of the new world.Dr. Paul Craig Roberts was Assistant Secretary of the Treasury for Economic Policy and associate editor of the Wall Street Journal. He was columnist for Business Week, Scripps Howard News Service, and Creators Syndicate. He has had many university appointments. His internet columns have attracted a worldwide following. Roberts  latest books are The Failure of Laissez Faire Capitalism and Economic Dissolution of the West, How America Was Lost, and The Neoconservative Threat to World Order. READ MORE NWO NEWS AT: 21st Century Wire NWO Files\n"
     ]
    },
    {
     "name": "stdout",
     "output_type": "stream",
     "text": [
      "\n",
      "\n",
      "LR Prediction: Fake News \n",
      "DT Prediction: Fake News \n",
      "GBC Prediction: Fake News \n",
      "RFC Prediction: Fake News\n"
     ]
    }
   ],
   "source": [
    "news = str(input())\n",
    "manual_testing(news)"
   ]
  },
  {
   "cell_type": "code",
   "execution_count": null,
   "id": "cb79f816-b08a-4d07-92c2-fe73568ef6ea",
   "metadata": {},
   "outputs": [],
   "source": []
  }
 ],
 "metadata": {
  "kernelspec": {
   "display_name": "Python 3 (ipykernel)",
   "language": "python",
   "name": "python3"
  },
  "language_info": {
   "codemirror_mode": {
    "name": "ipython",
    "version": 3
   },
   "file_extension": ".py",
   "mimetype": "text/x-python",
   "name": "python",
   "nbconvert_exporter": "python",
   "pygments_lexer": "ipython3",
   "version": "3.11.7"
  }
 },
 "nbformat": 4,
 "nbformat_minor": 5
}
